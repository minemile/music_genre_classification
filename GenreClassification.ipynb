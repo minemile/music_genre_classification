{
 "cells": [
  {
   "cell_type": "code",
   "execution_count": 1,
   "metadata": {},
   "outputs": [],
   "source": [
    "%load_ext autoreload\n",
    "%autoreload 2\n",
    "%reload_ext autoreload\n",
    "import librosa\n",
    "import numpy as np\n",
    "import librosa.display\n",
    "from sklearn.preprocessing import LabelEncoder\n",
    "from sklearn.model_selection import train_test_split\n",
    "from sklearn.metrics import classification_report\n",
    "from server.database_wrapper import PostgresqlWrapper\n",
    "from server.utils import Util\n",
    "from feature_extractor import FeatureExtractor\n",
    "import xgboost as xgb"
   ]
  },
  {
   "cell_type": "code",
   "execution_count": 18,
   "metadata": {},
   "outputs": [
    {
     "name": "stderr",
     "output_type": "stream",
     "text": [
      "2018-04-30 01:28:40,709 - server.database_wrapper - INFO - Creating pool\n",
      "2018-04-30 01:28:40,709 - server.database_wrapper - INFO - Creating pool\n",
      "2018-04-30 01:28:40,918 - server.database_wrapper - INFO - Done register types\n",
      "2018-04-30 01:28:40,918 - server.database_wrapper - INFO - Done register types\n",
      "2018-04-30 01:28:40,921 - server.database_wrapper - INFO - Creating table\n",
      "2018-04-30 01:28:40,921 - server.database_wrapper - INFO - Creating table\n",
      "2018-04-30 01:28:41,010 - server.database_wrapper - INFO - Start fetching 150 songs\n",
      "2018-04-30 01:28:41,010 - server.database_wrapper - INFO - Start fetching 150 songs\n",
      "2018-04-30 01:28:41,024 - server.database_wrapper - INFO - Statement Select * from music where genre = classical order by id limit 50 offset 0\n",
      "2018-04-30 01:28:41,024 - server.database_wrapper - INFO - Statement Select * from music where genre = classical order by id limit 50 offset 02018-04-30 01:28:41,028 - server.database_wrapper - INFO - Statement Select * from music where genre = blues order by id limit 50 offset 0\n",
      "\n",
      "2018-04-30 01:28:41,028 - server.database_wrapper - INFO - Statement Select * from music where genre = disco order by id limit 50 offset 0\n",
      "2018-04-30 01:28:41,028 - server.database_wrapper - INFO - Statement Select * from music where genre = blues order by id limit 50 offset 0\n",
      "2018-04-30 01:28:41,028 - server.database_wrapper - INFO - Statement Select * from music where genre = rock order by id limit 50 offset 0\n",
      "2018-04-30 01:28:41,028 - server.database_wrapper - INFO - Statement Select * from music where genre = disco order by id limit 50 offset 0\n",
      "2018-04-30 01:28:41,028 - server.database_wrapper - INFO - Statement Select * from music where genre = rock order by id limit 50 offset 0\n",
      "2018-04-30 01:28:41,028 - server.database_wrapper - INFO - Statement Select * from music where genre = metal order by id limit 50 offset 50\n",
      "2018-04-30 01:28:41,028 - server.database_wrapper - INFO - Statement Select * from music where genre = metal order by id limit 50 offset 50\n",
      "2018-04-30 01:29:01,447 - server.database_wrapper - INFO - Statement Select * from music where genre = metal order by id limit 50 offset 0\n",
      "2018-04-30 01:29:01,447 - server.database_wrapper - INFO - Statement Select * from music where genre = metal order by id limit 50 offset 02018-04-30 01:29:01,527 - server.database_wrapper - INFO - Statement Select * from music where genre = classical order by id limit 50 offset 50\n",
      "\n",
      "2018-04-30 01:29:01,527 - server.database_wrapper - INFO - Statement Select * from music where genre = classical order by id limit 50 offset 50\n",
      "2018-04-30 01:29:09,200 - server.database_wrapper - INFO - Statement Select * from music where genre = hiphop order by id limit 50 offset 50\n",
      "2018-04-30 01:29:09,200 - server.database_wrapper - INFO - Statement Select * from music where genre = hiphop order by id limit 50 offset 50\n",
      "2018-04-30 01:29:19,602 - server.database_wrapper - INFO - Statement Select * from music where genre = blues order by id limit 50 offset 50\n",
      "2018-04-30 01:29:19,602 - server.database_wrapper - INFO - Statement Select * from music where genre = blues order by id limit 50 offset 50\n",
      "2018-04-30 01:29:23,154 - server.database_wrapper - INFO - Statement Select * from music where genre = hiphop order by id limit 50 offset 0\n",
      "2018-04-30 01:29:23,154 - server.database_wrapper - INFO - Statement Select * from music where genre = hiphop order by id limit 50 offset 0\n",
      "2018-04-30 01:29:23,568 - server.database_wrapper - INFO - Statement Select * from music where genre = disco order by id limit 50 offset 50\n",
      "2018-04-30 01:29:23,568 - server.database_wrapper - INFO - Statement Select * from music where genre = disco order by id limit 50 offset 50\n",
      "2018-04-30 01:29:23,828 - server.database_wrapper - INFO - Statement Select * from music where genre = pop order by id limit 50 offset 0\n",
      "2018-04-30 01:29:23,828 - server.database_wrapper - INFO - Statement Select * from music where genre = pop order by id limit 50 offset 0\n",
      "2018-04-30 01:29:27,008 - server.database_wrapper - INFO - Statement Select * from music where genre = pop order by id limit 50 offset 50\n",
      "2018-04-30 01:29:27,008 - server.database_wrapper - INFO - Statement Select * from music where genre = pop order by id limit 50 offset 50\n",
      "2018-04-30 01:29:29,037 - server.database_wrapper - INFO - Statement Select * from music where genre = classical order by id limit 50 offset 100\n",
      "2018-04-30 01:29:29,037 - server.database_wrapper - INFO - Statement Select * from music where genre = classical order by id limit 50 offset 100\n",
      "2018-04-30 01:29:29,080 - server.database_wrapper - INFO - Statement Select * from music where genre = metal order by id limit 50 offset 100\n",
      "2018-04-30 01:29:29,080 - server.database_wrapper - INFO - Statement Select * from music where genre = metal order by id limit 50 offset 100\n",
      "2018-04-30 01:29:29,086 - server.database_wrapper - INFO - Statement Select * from music where genre = blues order by id limit 50 offset 100\n",
      "2018-04-30 01:29:29,086 - server.database_wrapper - INFO - Statement Select * from music where genre = blues order by id limit 50 offset 100\n",
      "2018-04-30 01:29:29,092 - server.database_wrapper - INFO - Statement Select * from music where genre = hiphop order by id limit 50 offset 100\n",
      "2018-04-30 01:29:29,092 - server.database_wrapper - INFO - Statement Select * from music where genre = hiphop order by id limit 50 offset 100\n",
      "2018-04-30 01:29:29,101 - server.database_wrapper - INFO - Statement Select * from music where genre = disco order by id limit 50 offset 100\n",
      "2018-04-30 01:29:29,101 - server.database_wrapper - INFO - Statement Select * from music where genre = disco order by id limit 50 offset 100\n",
      "2018-04-30 01:29:29,107 - server.database_wrapper - INFO - Statement Select * from music where genre = pop order by id limit 50 offset 100\n",
      "2018-04-30 01:29:29,107 - server.database_wrapper - INFO - Statement Select * from music where genre = pop order by id limit 50 offset 100\n",
      "2018-04-30 01:29:29,114 - server.database_wrapper - INFO - Statement Select * from music where genre = rock order by id limit 50 offset 100\n",
      "2018-04-30 01:29:29,114 - server.database_wrapper - INFO - Statement Select * from music where genre = rock order by id limit 50 offset 100\n",
      "2018-04-30 01:29:29,121 - server.database_wrapper - INFO - Statement Select * from music where genre = classical order by id limit 50 offset 150\n",
      "2018-04-30 01:29:29,121 - server.database_wrapper - INFO - Statement Select * from music where genre = classical order by id limit 50 offset 150\n",
      "2018-04-30 01:29:29,129 - server.database_wrapper - INFO - Statement Select * from music where genre = metal order by id limit 50 offset 150\n",
      "2018-04-30 01:29:29,129 - server.database_wrapper - INFO - Statement Select * from music where genre = metal order by id limit 50 offset 150\n",
      "2018-04-30 01:29:29,135 - server.database_wrapper - INFO - Statement Select * from music where genre = blues order by id limit 50 offset 150\n",
      "2018-04-30 01:29:29,135 - server.database_wrapper - INFO - Statement Select * from music where genre = blues order by id limit 50 offset 150\n",
      "2018-04-30 01:29:29,141 - server.database_wrapper - INFO - Statement Select * from music where genre = hiphop order by id limit 50 offset 150\n",
      "2018-04-30 01:29:29,141 - server.database_wrapper - INFO - Statement Select * from music where genre = hiphop order by id limit 50 offset 150\n",
      "2018-04-30 01:29:29,151 - server.database_wrapper - INFO - Statement Select * from music where genre = disco order by id limit 50 offset 150\n",
      "2018-04-30 01:29:29,151 - server.database_wrapper - INFO - Statement Select * from music where genre = disco order by id limit 50 offset 150\n",
      "2018-04-30 01:29:29,164 - server.database_wrapper - INFO - Statement Select * from music where genre = pop order by id limit 50 offset 150\n",
      "2018-04-30 01:29:29,164 - server.database_wrapper - INFO - Statement Select * from music where genre = pop order by id limit 50 offset 150\n",
      "2018-04-30 01:29:29,171 - server.database_wrapper - INFO - Statement Select * from music where genre = rock order by id limit 50 offset 150\n",
      "2018-04-30 01:29:29,171 - server.database_wrapper - INFO - Statement Select * from music where genre = rock order by id limit 50 offset 150\n"
     ]
    },
    {
     "name": "stderr",
     "output_type": "stream",
     "text": [
      "2018-04-30 01:30:10,956 - server.database_wrapper - INFO - Statement Select * from music where genre = rock order by id limit 50 offset 50\n",
      "2018-04-30 01:30:10,956 - server.database_wrapper - INFO - Statement Select * from music where genre = rock order by id limit 50 offset 50\n"
     ]
    }
   ],
   "source": [
    "# Song downloading from database\n",
    "db = PostgresqlWrapper(5)\n",
    "data = db.fetch_songs(150, genres=['classical', 'metal', 'blues', 'hiphop', 'disco', 'pop', 'rock'])"
   ]
  },
  {
   "cell_type": "code",
   "execution_count": 19,
   "metadata": {},
   "outputs": [
    {
     "name": "stdout",
     "output_type": "stream",
     "text": [
      "Prepared 50 songs\n",
      "Prepared 100 songs\n",
      "Prepared 150 songs\n",
      "Prepared 200 songs\n",
      "Prepared 250 songs\n",
      "Prepared 300 songs\n",
      "Prepared 350 songs\n",
      "Prepared 400 songs\n",
      "Prepared 450 songs\n",
      "Prepared 500 songs\n",
      "Prepared 550 songs\n",
      "Prepared 600 songs\n",
      "Prepared 650 songs\n",
      "Prepared 700 songs\n"
     ]
    }
   ],
   "source": [
    "# Create dataset\n",
    "util = Util()\n",
    "songs, genres = util.to_dataset(data)"
   ]
  },
  {
   "cell_type": "code",
   "execution_count": 20,
   "metadata": {},
   "outputs": [
    {
     "name": "stdout",
     "output_type": "stream",
     "text": [
      "Got mfcc for 0 songs\n",
      "Got mfcc for 50 songs\n",
      "Got mfcc for 100 songs\n",
      "Got mfcc for 150 songs\n",
      "Got mfcc for 200 songs\n",
      "Got mfcc for 250 songs\n",
      "Got mfcc for 300 songs\n",
      "Got mfcc for 350 songs\n",
      "Got mfcc for 400 songs\n",
      "Got mfcc for 450 songs\n",
      "Got mfcc for 500 songs\n",
      "Got mfcc for 550 songs\n",
      "Got mfcc for 600 songs\n",
      "Got mfcc for 650 songs\n"
     ]
    }
   ],
   "source": [
    "# Extract features (mfcc means and zero_crossing_rate for now)\n",
    "extractor = FeatureExtractor(songs)\n",
    "mfcc_means = extractor.generate_mfcc(n_mfcc=20, sr=22050)"
   ]
  },
  {
   "cell_type": "code",
   "execution_count": 21,
   "metadata": {},
   "outputs": [
    {
     "name": "stdout",
     "output_type": "stream",
     "text": [
      "Got zero_cross_rate for 0 songs\n",
      "Got zero_cross_rate for 50 songs\n",
      "Got zero_cross_rate for 100 songs\n",
      "Got zero_cross_rate for 150 songs\n",
      "Got zero_cross_rate for 200 songs\n",
      "Got zero_cross_rate for 250 songs\n",
      "Got zero_cross_rate for 300 songs\n",
      "Got zero_cross_rate for 350 songs\n",
      "Got zero_cross_rate for 400 songs\n",
      "Got zero_cross_rate for 450 songs\n",
      "Got zero_cross_rate for 500 songs\n",
      "Got zero_cross_rate for 550 songs\n",
      "Got zero_cross_rate for 600 songs\n",
      "Got zero_cross_rate for 650 songs\n"
     ]
    }
   ],
   "source": [
    "zcrs = extractor.generate_zero_crossing_rate(None, None)"
   ]
  },
  {
   "cell_type": "code",
   "execution_count": 22,
   "metadata": {},
   "outputs": [],
   "source": [
    "X = np.hstack((mfcc_means, zcrs))"
   ]
  },
  {
   "cell_type": "code",
   "execution_count": 23,
   "metadata": {},
   "outputs": [],
   "source": [
    "# Prepare data for xgboost. Encode genres. Train/test split\n",
    "y = LabelEncoder().fit_transform(genres)\n",
    "X_train, X_test, y_train, y_test = train_test_split(X, y, test_size=0.3, random_state=42, stratify=y)"
   ]
  },
  {
   "cell_type": "code",
   "execution_count": 24,
   "metadata": {},
   "outputs": [],
   "source": [
    "dtrain = xgb.DMatrix(X_train, label=y_train)\n",
    "dtest = xgb.DMatrix(X_test, label=y_test)"
   ]
  },
  {
   "cell_type": "code",
   "execution_count": 25,
   "metadata": {},
   "outputs": [
    {
     "name": "stdout",
     "output_type": "stream",
     "text": [
      "[0]\ttrain-merror:0.140816\teval-merror:0.433333\n",
      "[1]\ttrain-merror:0.077551\teval-merror:0.428571\n",
      "[2]\ttrain-merror:0.04898\teval-merror:0.414286\n",
      "[3]\ttrain-merror:0.034694\teval-merror:0.404762\n",
      "[4]\ttrain-merror:0.026531\teval-merror:0.404762\n",
      "[5]\ttrain-merror:0.016327\teval-merror:0.4\n",
      "[6]\ttrain-merror:0.008163\teval-merror:0.395238\n",
      "[7]\ttrain-merror:0.006122\teval-merror:0.380952\n",
      "[8]\ttrain-merror:0.002041\teval-merror:0.366667\n",
      "[9]\ttrain-merror:0.002041\teval-merror:0.37619\n"
     ]
    }
   ],
   "source": [
    "# Xgboost training\n",
    "param = {'objective': \"multi:softmax\", \"num_class\": np.unique(y_train).size}\n",
    "evallist = [(dtrain, 'train'), (dtest, 'eval')]\n",
    "bst = xgb.train(param, dtrain, evals=evallist)"
   ]
  },
  {
   "cell_type": "code",
   "execution_count": 31,
   "metadata": {},
   "outputs": [
    {
     "name": "stdout",
     "output_type": "stream",
     "text": [
      "             precision    recall  f1-score   support\n",
      "\n",
      "  classical       0.60      0.50      0.55        30\n",
      "      metal       0.87      0.87      0.87        30\n",
      "      blues       0.45      0.47      0.46        30\n",
      "     hiphop       0.61      0.63      0.62        30\n",
      "      disco       0.80      0.80      0.80        30\n",
      "        pop       0.73      0.73      0.73        30\n",
      "       rock       0.33      0.37      0.35        30\n",
      "\n",
      "avg / total       0.63      0.62      0.63       210\n",
      "\n"
     ]
    }
   ],
   "source": [
    "print(classification_report(y_test, bst.predict(dtest), target_names=['classical', 'metal', 'blues', 'hiphop', 'disco', 'pop', 'rock']))"
   ]
  },
  {
   "cell_type": "code",
   "execution_count": null,
   "metadata": {},
   "outputs": [],
   "source": [
    "# Pay attention to rock. SICK!"
   ]
  }
 ],
 "metadata": {
  "kernelspec": {
   "display_name": "Python 3",
   "language": "python",
   "name": "python3"
  },
  "language_info": {
   "codemirror_mode": {
    "name": "ipython",
    "version": 3
   },
   "file_extension": ".py",
   "mimetype": "text/x-python",
   "name": "python",
   "nbconvert_exporter": "python",
   "pygments_lexer": "ipython3",
   "version": "3.6.4"
  }
 },
 "nbformat": 4,
 "nbformat_minor": 2
}
