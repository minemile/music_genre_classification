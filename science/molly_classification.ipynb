{
 "cells": [
  {
   "cell_type": "code",
   "execution_count": 26,
   "metadata": {},
   "outputs": [],
   "source": [
    "import librosa, librosa.display\n",
    "import numpy as np\n",
    "from sklearn.preprocessing import StandardScaler\n",
    "from sklearn.svm import SVC\n",
    "from sklearn.tree import DecisionTreeClassifier"
   ]
  },
  {
   "cell_type": "code",
   "execution_count": 19,
   "metadata": {},
   "outputs": [],
   "source": [
    "song_molly, fs = librosa.load('molly/04_vecherinka.mp3')\n",
    "song_face, fs = librosa.load('face.mp3')"
   ]
  },
  {
   "cell_type": "code",
   "execution_count": null,
   "metadata": {},
   "outputs": [],
   "source": [
    "molly_mfcc = librosa.feature.mfcc(song_molly).T\n",
    "face_mfcc = librosa.feature.mfcc(song_face).T\n",
    "molly_mfcc.shape"
   ]
  },
  {
   "cell_type": "code",
   "execution_count": 21,
   "metadata": {},
   "outputs": [],
   "source": [
    "scaler = StandardScaler()\n",
    "molly_mfcc_scaled = scaler.fit_transform(molly_mfcc)\n",
    "face_mfcc_scaled = scaler.transform(face_mfcc)\n",
    "features = np.vstack((molly_mfcc_scaled, face_mfcc_scaled))"
   ]
  },
  {
   "cell_type": "code",
   "execution_count": 22,
   "metadata": {},
   "outputs": [
    {
     "data": {
      "text/plain": [
       "(17835,)"
      ]
     },
     "execution_count": 22,
     "metadata": {},
     "output_type": "execute_result"
    }
   ],
   "source": [
    "classes = {}\n",
    "labels = np.concatenate((np.zeros(len(molly_mfcc_scaled)), np.ones(len(face_mfcc_scaled))))\n",
    "classes[0] = 'Пошлая молли'\n",
    "classes[1] = 'Face'\n",
    "labels.shape"
   ]
  },
  {
   "cell_type": "code",
   "execution_count": 27,
   "metadata": {},
   "outputs": [
    {
     "data": {
      "text/plain": [
       "DecisionTreeClassifier(class_weight=None, criterion='gini', max_depth=None,\n",
       "            max_features=None, max_leaf_nodes=None,\n",
       "            min_impurity_decrease=0.0, min_impurity_split=None,\n",
       "            min_samples_leaf=1, min_samples_split=2,\n",
       "            min_weight_fraction_leaf=0.0, presort=False, random_state=None,\n",
       "            splitter='best')"
      ]
     },
     "execution_count": 27,
     "metadata": {},
     "output_type": "execute_result"
    }
   ],
   "source": [
    "clf = DecisionTreeClassifier()\n",
    "clf.fit(features, labels)"
   ]
  },
  {
   "cell_type": "code",
   "execution_count": 28,
   "metadata": {},
   "outputs": [],
   "source": [
    "song_molly_test, fs = librosa.load('nirvana_polly.mp3')\n",
    "molly_test_mfcc = librosa.feature.mfcc(song_molly_test).T\n",
    "molly_test_mfcc_scaled = scaler.transform(molly_test_mfcc)"
   ]
  },
  {
   "cell_type": "code",
   "execution_count": 29,
   "metadata": {},
   "outputs": [
    {
     "name": "stdout",
     "output_type": "stream",
     "text": [
      "Probs:  [4894, 2718]\n",
      "Пошлая молли\n"
     ]
    }
   ],
   "source": [
    "predicted_labels = clf.predict(molly_test_mfcc_scaled)\n",
    "probs = [(predicted_labels == c).sum() for c in (0, 1)]\n",
    "print(\"Probs: \", probs)\n",
    "print(classes[np.argmax(probs)])"
   ]
  },
  {
   "cell_type": "code",
   "execution_count": 10,
   "metadata": {},
   "outputs": [
    {
     "name": "stdout",
     "output_type": "stream",
     "text": [
      "01ZnashitDrushba.mp3\r\n",
      "02_vse.mp3\r\n",
      "03_rai.mp3\r\n",
      "04_vecherinka.mp3\r\n",
      "05 Гласс.mp3\r\n",
      "06_pesik.mp3\r\n",
      "face_zapad.mp3\r\n",
      "nonstop.mp3\r\n",
      "Грустная девчонка с глазами как у собаки - EP.jpg\r\n"
     ]
    }
   ],
   "source": [
    "!ls molly/"
   ]
  },
  {
   "cell_type": "code",
   "execution_count": null,
   "metadata": {},
   "outputs": [],
   "source": []
  }
 ],
 "metadata": {
  "kernelspec": {
   "display_name": "Python 3",
   "language": "python",
   "name": "python3"
  },
  "language_info": {
   "codemirror_mode": {
    "name": "ipython",
    "version": 3
   },
   "file_extension": ".py",
   "mimetype": "text/x-python",
   "name": "python",
   "nbconvert_exporter": "python",
   "pygments_lexer": "ipython3",
   "version": "3.6.4"
  }
 },
 "nbformat": 4,
 "nbformat_minor": 2
}
