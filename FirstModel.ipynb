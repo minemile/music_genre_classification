{
 "cells": [
  {
   "cell_type": "code",
   "execution_count": 1,
   "metadata": {
    "collapsed": true
   },
   "outputs": [],
   "source": [
    "\"\"\"\n",
    "    Article:\n",
    "    http://cs229.stanford.edu/proj2011/HaggbladeHongKao-MusicGenreClassification.pdf\n",
    "    Content:\n",
    "    1. Downloading Marsyas (search for the link in Telegram)\n",
    "    2. Getting the middle of the song(50%)\n",
    "    3. Getting MFCC from the each song and cutting down the higher frequences.\n",
    "    After the cuttin the MFCC.shape equals (15, N), where N is the number of fragments\n",
    "    4. Getting np.means(axis = 1) and the covariation matrix\n",
    "    5. We have features now!\n",
    "    6. Metrics: Kullback-Lieber (KL) Divergence\n",
    "    (TODO: understand it from the scientific point of view)\n",
    "    7. I suggest keeping the data in the next form:\n",
    "        -- the first 15 values is the vector of means\n",
    "        -- the next 225 values is the ravel() of the cov_matrix\n",
    "\n",
    "\"\"\"\n",
    "\n",
    "\n",
    "import librosa\n",
    "import numpy as np\n",
    "from numpy.linalg import det\n",
    "from numpy.linalg import inv\n",
    "from sklearn.neighbors import KNeighborsClassifier\n",
    "from sklearn.model_selection import train_test_split\n",
    "from sklearn.metrics import accuracy_score\n",
    "\n",
    "import math\n",
    "\n",
    "def getFeatureMFCC(song):\n",
    "    \"\"\"\n",
    "    Gets features from the song and writes it in array\n",
    "    \n",
    "    \"\"\"\n",
    "\n",
    "    # MFCC cut\n",
    "    MFCC = librosa.feature.mfcc(song)[:15, 1:]\n",
    "    \n",
    "    means = np.mean(MFCC, axis = 1)\n",
    "    cov_matrix = np.cov(MFCC, rowvar = True)    \n",
    "\n",
    "    return np.append(means, cov_matrix.ravel())\n",
    "\n",
    "def QuadraticForm(A, x, y):\n",
    "    return np.dot(np.dot(A, x), y)\n",
    "\n",
    "def Divergence_KL(song_p, song_q):    \n",
    "    \n",
    "    # Getting features\n",
    "    means_p = song_p[0 : 15]\n",
    "    cov_p = song_p[15 :].reshape(15, 15)\n",
    "    means_q = song_q[0 : 15]\n",
    "    cov_q = song_q[15 :].reshape(15, 15)\n",
    "\n",
    "    inv_cov_q = inv(cov_q)\n",
    "    means_diff = means_p - means_q\n",
    "    return 0.5 * (math.log(det(cov_q) / det(cov_p)) +\\\n",
    "                  np.trace(np.dot(inv_cov_q, cov_p)) +\\\n",
    "                  QuadraticForm(inv_cov_q, means_diff, means_diff) - 15)\n",
    "                  \n",
    "\n",
    "def Distance_KL(song_p, song_q):\n",
    "    \"\"\"\n",
    "    Initializes the metrics\n",
    "    \n",
    "    \"\"\"\n",
    "    \n",
    "    return Divergence_KL(song_p, song_q) + Divergence_KL(song_q, song_p)\n",
    "\n",
    "def getData(where_to, genre, range_tuple):\n",
    "    for i in range(range_tuple):\n",
    "        if i < 10:\n",
    "            path = \"./\" + genre + \"/\" + genre + \".0000\" + str(i) + \".au\"        \n",
    "        else:\n",
    "            path = \"./\" + genre + \"/\" + genre + \".000\" + str(i) + \".au\"\n",
    "\n",
    "        song = librosa.load(path)[0]\n",
    "        where_to.append(getFeatureMFCC(song))"
   ]
  },
  {
   "cell_type": "code",
   "execution_count": 19,
   "metadata": {},
   "outputs": [],
   "source": [
    "data = list()\n",
    "getData(data, \"hiphop\", 30)\n",
    "getData(data, \"rock\", 30)\n",
    "getData(data, \"classical\", 30)\n",
    "data = np.array(data)\n",
    "y = np.append([np.zeros(30), 1 + np.zeros(30)], 2 +  np.zeros(30))"
   ]
  },
  {
   "cell_type": "code",
   "execution_count": 20,
   "metadata": {},
   "outputs": [
    {
     "data": {
      "text/plain": [
       "0.8148148148148148"
      ]
     },
     "execution_count": 20,
     "metadata": {},
     "output_type": "execute_result"
    }
   ],
   "source": [
    "X_train, X_test, y_train, y_test = train_test_split(data, y, test_size=0.3, random_state=0)\n",
    "knn = KNeighborsClassifier(n_neighbors = 5, metric=Divergence_KL)\n",
    "knn.fit(X_train, y_train)\n",
    "accuracy_score(knn.predict(X_test), y_test)"
   ]
  },
  {
   "cell_type": "code",
   "execution_count": 21,
   "metadata": {},
   "outputs": [
    {
     "name": "stdout",
     "output_type": "stream",
     "text": [
      "             precision    recall  f1-score   support\n",
      "\n",
      "     hiphop       0.66      1.00      0.79        21\n",
      "       rock       1.00      0.60      0.75        20\n",
      "  classical       1.00      0.86      0.93        22\n",
      "\n",
      "avg / total       0.89      0.83      0.83        63\n",
      "\n"
     ]
    }
   ],
   "source": [
    "from sklearn.metrics import classification_report\n",
    "\n",
    "print(classification_report(y_train, knn.predict(X_train), target_names = [\"hiphop\", \"rock\", \"classical\"]))"
   ]
  },
  {
   "cell_type": "code",
   "execution_count": 11,
   "metadata": {},
   "outputs": [
    {
     "data": {
      "text/plain": [
       "(63, 240)"
      ]
     },
     "execution_count": 11,
     "metadata": {},
     "output_type": "execute_result"
    }
   ],
   "source": [
    "X_train.shape"
   ]
  }
 ],
 "metadata": {
  "kernelspec": {
   "display_name": "Python 3",
   "language": "python",
   "name": "python3"
  },
  "language_info": {
   "codemirror_mode": {
    "name": "ipython",
    "version": 3
   },
   "file_extension": ".py",
   "mimetype": "text/x-python",
   "name": "python",
   "nbconvert_exporter": "python",
   "pygments_lexer": "ipython3",
   "version": "3.6.1"
  }
 },
 "nbformat": 4,
 "nbformat_minor": 2
}
